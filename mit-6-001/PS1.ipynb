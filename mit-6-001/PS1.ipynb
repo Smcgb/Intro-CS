{
 "cells": [
  {
   "cell_type": "markdown",
   "metadata": {},
   "source": [
    "## PS1\n",
    "\n",
    "### Problem 1\n",
    "\n",
    "Assume s is a string of lower case characters.\n",
    "\n",
    "Write a program that counts up the number of vowels contained in the string s. Valid vowels are: 'a', 'e', 'i', 'o', and 'u'. For example, if s = 'azcbobobegghakl', your program should print:\n",
    "\n",
    "`Number of vowels: 5`"
   ]
  },
  {
   "cell_type": "code",
   "execution_count": 1,
   "metadata": {},
   "outputs": [
    {
     "name": "stdout",
     "output_type": "stream",
     "text": [
      "Number of vowels: 5\n"
     ]
    }
   ],
   "source": [
    "def count_vowel(s):\n",
    "    \"\"\"\n",
    "    Count the number of vowels in a given string.\n",
    "\n",
    "    Args:\n",
    "        s (str): The input string to count vowels from.\n",
    "\n",
    "    Returns:\n",
    "        None: This function does not return anything, it only prints the result.\n",
    "\n",
    "    Example:\n",
    "        >>> count_vowel('Hello, World!')\n",
    "        Number of vowels: 3\n",
    "    \"\"\"\n",
    "    s = str.lower(s)\n",
    "    vowel_list = ['a','e','i','o','u']\n",
    "    \n",
    "    count_vowel = 0\n",
    "    \n",
    "    for l in s:\n",
    "        if l in vowel_list:\n",
    "            count_vowel += 1\n",
    "    \n",
    "    print('Number of vowels:', count_vowel)\n",
    "    \n",
    "# count_vowel(s) # used for unit testing within MITx grader\n",
    "# test cast\n",
    "\n",
    "s = 'azcbobobegghakl'\n",
    "count_vowel(s)"
   ]
  },
  {
   "cell_type": "markdown",
   "metadata": {},
   "source": [
    "### Problem 2\n",
    "\n",
    "Assume s is a string of lower case characters.\n",
    "\n",
    "Write a program that prints the number of times the string 'bob' occurs in s. For example, if s = 'azcbobobegghakl', then your program should print\n",
    "\n",
    "`Number of times bob occurs is: 2`"
   ]
  },
  {
   "cell_type": "code",
   "execution_count": 2,
   "metadata": {},
   "outputs": [
    {
     "name": "stdout",
     "output_type": "stream",
     "text": [
      "Number of times bob occurs is:  2\n"
     ]
    }
   ],
   "source": [
    "def count_bob(s):\n",
    "    \"\"\"\n",
    "    Count the number of times the substring 'bob' occurs in a given string.\n",
    "\n",
    "    Args:\n",
    "        s (str): The input string to count 'bob' from.\n",
    "\n",
    "    Returns:\n",
    "        None: This function does not return anything, it only prints the result.\n",
    "\n",
    "    Example:\n",
    "        >>> count_bob('azcbobobegghakl')\n",
    "        Number of times bob occurs is: 2\n",
    "    \"\"\"\n",
    "    bobs = 0\n",
    "\n",
    "    for num, letter in enumerate(s):\n",
    "        if letter == 'b':\n",
    "            if s[num:(num+3)] == 'bob':\n",
    "                bobs += 1\n",
    "            \n",
    "    print('Number of times bob occurs is: ', bobs)\n",
    "\n",
    "# count_bob(s) # used for unit testing within MITx grader\n",
    "# test cast\n",
    "\n",
    "s = 'azcbobobegghakl'\n",
    "count_bob(s)"
   ]
  },
  {
   "cell_type": "markdown",
   "metadata": {},
   "source": [
    "### Problem 3\n",
    "\n",
    "Assume s is a string of lower case characters.\n",
    "\n",
    "Write a program that prints the longest substring of s in which the letters occur in alphabetical order. For example, if s = 'azcbobobegghakl', then your program should print\n",
    "\n",
    "`Longest substring in alphabetical order is: beggh`\n",
    "\n",
    "In the case of ties, print the first substring. For example, if s = 'abcbcd', then your program should print\n",
    "\n",
    "`Longest substring in alphabetical order is: abc`"
   ]
  },
  {
   "cell_type": "code",
   "execution_count": 3,
   "metadata": {},
   "outputs": [
    {
     "name": "stdout",
     "output_type": "stream",
     "text": [
      "Longest substring in alphabetical order is: beggh\n"
     ]
    }
   ],
   "source": [
    "def find_longest_substring(s):\n",
    "    \"\"\"\n",
    "    Find the longest substring in alphabetical order in a given string.\n",
    "\n",
    "    Args:\n",
    "        s (str): The input string to find the longest substring in alphabetical order from.\n",
    "\n",
    "    Returns:\n",
    "        str: None: This function does not return anything, it only prints the result.\n",
    "\n",
    "    Example:\n",
    "        >>> find_longest_substring('azcbobobegghakl')\n",
    "        'beggh'\n",
    "    \"\"\"\n",
    "for i,v in enumerate(s):\n",
    "    if i == 0:\n",
    "        longest = v\n",
    "        current = v\n",
    "    elif v >= s[i-1]:\n",
    "        current += v\n",
    "        if len(current) > len(longest):\n",
    "            longest = current\n",
    "    else:\n",
    "        current = v\n",
    "\n",
    "print(\"Longest substring in alphabetical order is: \" + longest)\n",
    "\n",
    "# find_longest_substring(s) # used for unit testing within MITx grader\n",
    "# test cast\n",
    "\n",
    "s = 'azcbobobegghakl'\n",
    "find_longest_substring(s)"
   ]
  },
  {
   "cell_type": "code",
   "execution_count": 4,
   "metadata": {},
   "outputs": [
    {
     "name": "stderr",
     "output_type": "stream",
     "text": [
      "[NbConvertApp] Converting notebook PS1.ipynb to python\n",
      "[NbConvertApp] Writing 3362 bytes to PS1.py\n"
     ]
    }
   ],
   "source": [
    "!jupyter nbconvert PS1.ipynb --to python"
   ]
  }
 ],
 "metadata": {
  "kernelspec": {
   "display_name": "base",
   "language": "python",
   "name": "python3"
  },
  "language_info": {
   "codemirror_mode": {
    "name": "ipython",
    "version": 3
   },
   "file_extension": ".py",
   "mimetype": "text/x-python",
   "name": "python",
   "nbconvert_exporter": "python",
   "pygments_lexer": "ipython3",
   "version": "3.11.3"
  },
  "orig_nbformat": 4
 },
 "nbformat": 4,
 "nbformat_minor": 2
}
